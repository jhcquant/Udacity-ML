{
 "cells": [
  {
   "cell_type": "markdown",
   "metadata": {
    "collapsed": true
   },
   "source": [
    "# Image Classification\n",
    "In this project, you'll classify images from the [CIFAR-10 dataset](https://www.cs.toronto.edu/~kriz/cifar.html).  The dataset consists of airplanes, dogs, cats, and other objects. You'll preprocess the images, then train a convolutional neural network on all the samples. The images need to be normalized and the labels need to be one-hot encoded.  You'll get to apply what you learned and build a convolutional, max pooling, dropout, and fully connected layers.  At the end, you'll get to see your neural network's predictions on the sample images.\n",
    "## Get the Data\n",
    "Run the following cell to download the [CIFAR-10 dataset for python](https://www.cs.toronto.edu/~kriz/cifar-10-python.tar.gz)."
   ]
  },
  {
   "cell_type": "code",
   "execution_count": 1,
   "metadata": {
    "collapsed": false
   },
   "outputs": [
    {
     "name": "stdout",
     "output_type": "stream",
     "text": [
      "All files found!\n"
     ]
    }
   ],
   "source": [
    "\"\"\"\n",
    "DON'T MODIFY ANYTHING IN THIS CELL THAT IS BELOW THIS LINE\n",
    "\"\"\"\n",
    "from urllib.request import urlretrieve\n",
    "from os.path import isfile, isdir\n",
    "from tqdm import tqdm\n",
    "import problem_unittests as tests\n",
    "import tarfile\n",
    "\n",
    "cifar10_dataset_folder_path = 'cifar-10-batches-py'\n",
    "\n",
    "class DLProgress(tqdm):\n",
    "    last_block = 0\n",
    "\n",
    "    def hook(self, block_num=1, block_size=1, total_size=None):\n",
    "        self.total = total_size\n",
    "        self.update((block_num - self.last_block) * block_size)\n",
    "        self.last_block = block_num\n",
    "\n",
    "if not isfile('cifar-10-python.tar.gz'):\n",
    "    with DLProgress(unit='B', unit_scale=True, miniters=1, desc='CIFAR-10 Dataset') as pbar:\n",
    "        urlretrieve(\n",
    "            'https://www.cs.toronto.edu/~kriz/cifar-10-python.tar.gz',\n",
    "            'cifar-10-python.tar.gz',\n",
    "            pbar.hook)\n",
    "\n",
    "if not isdir(cifar10_dataset_folder_path):\n",
    "    with tarfile.open('cifar-10-python.tar.gz') as tar:\n",
    "        tar.extractall()\n",
    "        tar.close()\n",
    "\n",
    "\n",
    "tests.test_folder_path(cifar10_dataset_folder_path)"
   ]
  },
  {
   "cell_type": "markdown",
   "metadata": {},
   "source": [
    "## Explore the Data\n",
    "The dataset is broken into batches to prevent your machine from running out of memory.  The CIFAR-10 dataset consists of 5 batches, named `data_batch_1`, `data_batch_2`, etc.. Each batch contains the labels and images that are one of the following:\n",
    "* airplane\n",
    "* automobile\n",
    "* bird\n",
    "* cat\n",
    "* deer\n",
    "* dog\n",
    "* frog\n",
    "* horse\n",
    "* ship\n",
    "* truck\n",
    "\n",
    "Understanding a dataset is part of making predictions on the data.  Play around with the code cell below by changing the `batch_id` and `sample_id`. The `batch_id` is the id for a batch (1-5). The `sample_id` is the id for a image and label pair in the batch.\n",
    "\n",
    "Ask yourself \"What are all possible labels?\", \"What is the range of values for the image data?\", \"Are the labels in order or random?\".  Answers to questions like these will help you preprocess the data and end up with better predictions."
   ]
  },
  {
   "cell_type": "code",
   "execution_count": 2,
   "metadata": {
    "collapsed": false
   },
   "outputs": [
    {
     "name": "stdout",
     "output_type": "stream",
     "text": [
      "\n",
      "Stats of batch 1:\n",
      "Samples: 10000\n",
      "Label Counts: {0: 1005, 1: 974, 2: 1032, 3: 1016, 4: 999, 5: 937, 6: 1030, 7: 1001, 8: 1025, 9: 981}\n",
      "First 20 Labels: [6, 9, 9, 4, 1, 1, 2, 7, 8, 3, 4, 7, 7, 2, 9, 9, 9, 3, 2, 6]\n",
      "\n",
      "Example of Image 5:\n",
      "Image - Min Value: 0 Max Value: 252\n",
      "Image - Shape: (32, 32, 3)\n",
      "Label - Label Id: 1 Name: automobile\n"
     ]
    },
    {
     "data": {
      "image/png": "[encoded data removed]",
      "text/plain": [
       "<matplotlib.figure.Figure at 0x1109c0470>"
      ]
     },
     "metadata": {
      "image/png": {
       "height": 250,
       "width": 253
      }
     },
     "output_type": "display_data"
    }
   ],
   "source": [
    "import matplotlib\n",
    "\n",
    "%matplotlib inline\n",
    "%config InlineBackend.figure_format = 'retina'\n",
    "\n",
    "import helper\n",
    "import numpy as np\n",
    "\n",
    "# Explore the dataset\n",
    "batch_id = 1\n",
    "sample_id = 5\n",
    "helper.display_stats(cifar10_dataset_folder_path, batch_id, sample_id)"
   ]
  },
  {
   "cell_type": "markdown",
   "metadata": {},
   "source": [
    "## Implement Preprocess Functions\n",
    "### Normalize\n",
    "In the cell below, implement the `normalize` function to take in image data, `x`, and return it as a normalized Numpy array. The values should be in the range of 0 to 1, inclusive.  The return object should be the same shape as `x`."
   ]
  },
  {
   "cell_type": "code",
   "execution_count": 3,
   "metadata": {
    "collapsed": false
   },
   "outputs": [
    {
     "name": "stdout",
     "output_type": "stream",
     "text": [
      "Tests Passed\n"
     ]
    }
   ],
   "source": [
    "def normalize(x):\n",
    "    \"\"\"\n",
    "    Normalize a list of sample image data in the range of 0 to 1\n",
    "    : x: List of image data.  The image shape is (32, 32, 3)\n",
    "    : return: Numpy array of normalize data\n",
    "    \"\"\"\n",
    "    # TODO: Implement Function\n",
    "    #initiallize np.arrays of zeros with the same shape as x\n",
    "    norm_x = np.zeros(tuple(x.shape))\n",
    "    norm_images = x.shape[0]\n",
    "    \n",
    "    #calculate max/min values for normalization\n",
    "    max_val, min_val = x.max(), x.min()\n",
    "    \n",
    "    #normalize individual values \n",
    "    for index in range(norm_images):\n",
    "        norm_x[index,...] = (x[index, ...] - float(min_val)) / float(max_val - min_val)\n",
    "    \n",
    "    return norm_x\n",
    "    \n",
    "\n",
    "\"\"\"\n",
    "DON'T MODIFY ANYTHING IN THIS CELL THAT IS BELOW THIS LINE\n",
    "\"\"\"\n",
    "tests.test_normalize(normalize)"
   ]
  },
  {
   "cell_type": "markdown",
   "metadata": {},
   "source": [
    "### One-hot encode\n",
    "Just like the previous code cell, you'll be implementing a function for preprocessing.  This time, you'll implement the `one_hot_encode` function. The input, `x`, are a list of labels.  Implement the function to return the list of labels as One-Hot encoded Numpy array.  The possible values for labels are 0 to 9. The one-hot encoding function should return the same encoding for each value between each call to `one_hot_encode`.  Make sure to save the map of encodings outside the function.\n",
    "\n",
    "**Hint:**\n",
    "\n",
    "Look into LabelBinarizer in the preprocessing module of sklearn."
   ]
  },
  {
   "cell_type": "code",
   "execution_count": 4,
   "metadata": {
    "collapsed": false
   },
   "outputs": [
    {
     "name": "stdout",
     "output_type": "stream",
     "text": [
      "Tests Passed\n"
     ]
    }
   ],
   "source": [
    "from sklearn.preprocessing import OneHotEncoder\n",
    "one_hot = OneHotEncoder(n_values = 10)\n",
    "\n",
    "def one_hot_encode(x):\n",
    "    \"\"\"\n",
    "    One hot encode a list of sample labels. Return a one-hot encoded vector for each label.\n",
    "    : x: List of sample Labels\n",
    "    : return: Numpy array of one-hot encoded labels\n",
    "    \"\"\"\n",
    "    # TODO: Implement Function\n",
    "    shape = np.array(x).reshape(-1,1)\n",
    "    \n",
    "    return one_hot.fit_transform(shape).toarray()\n",
    "\n",
    "\n",
    "\"\"\"\n",
    "DON'T MODIFY ANYTHING IN THIS CELL THAT IS BELOW THIS LINE\n",
    "\"\"\"\n",
    "tests.test_one_hot_encode(one_hot_encode)"
   ]
  },
  {
   "cell_type": "markdown",
   "metadata": {},
   "source": [
    "### Randomize Data\n",
    "As you saw from exploring the data above, the order of the samples are randomized.  It doesn't hurt to randomize it again, but you don't need to for this dataset."
   ]
  },
  {
   "cell_type": "markdown",
   "metadata": {},
   "source": [
    "## Preprocess all the data and save it\n",
    "Running the code cell below will preprocess all the CIFAR-10 data and save it to file. The code below also uses 10% of the training data for validation."
   ]
  },
  {
   "cell_type": "code",
   "execution_count": 5,
   "metadata": {
    "collapsed": false
   },
   "outputs": [],
   "source": [
    "\"\"\"\n",
    "DON'T MODIFY ANYTHING IN THIS CELL\n",
    "\"\"\"\n",
    "# Preprocess Training, Validation, and Testing Data\n",
    "helper.preprocess_and_save_data(cifar10_dataset_folder_path, normalize, one_hot_encode)"
   ]
  },
  {
   "cell_type": "markdown",
   "metadata": {},
   "source": [
    "# Check Point\n",
    "This is your first checkpoint.  If you ever decide to come back to this notebook or have to restart the notebook, you can start from here.  The preprocessed data has been saved to disk."
   ]
  },
  {
   "cell_type": "code",
   "execution_count": 6,
   "metadata": {
    "collapsed": true
   },
   "outputs": [],
   "source": [
    "\"\"\"\n",
    "DON'T MODIFY ANYTHING IN THIS CELL\n",
    "\"\"\"\n",
    "import pickle\n",
    "import problem_unittests as tests\n",
    "import helper\n",
    "\n",
    "# Load the Preprocessed Validation data\n",
    "valid_features, valid_labels = pickle.load(open('preprocess_validation.p', mode='rb'))"
   ]
  },
  {
   "cell_type": "markdown",
   "metadata": {},
   "source": [
    "## Build the network\n",
    "For the neural network, you'll build each layer into a function.  Most of the code you've seen has been outside of functions. To test your code more thoroughly, we require that you put each layer in a function.  This allows us to give you better feedback and test for simple mistakes using our unittests before you submit your project.\n",
    "\n",
    ">**Note:** If you're finding it hard to dedicate enough time for this course each week, we've provided a small shortcut to this part of the project. In the next couple of problems, you'll have the option to use classes from the [TensorFlow Layers](https://www.tensorflow.org/api_docs/python/tf/layers) or [TensorFlow Layers (contrib)](https://www.tensorflow.org/api_guides/python/contrib.layers) packages to build each layer, except the layers you build in the \"Convolutional and Max Pooling Layer\" section.  TF Layers is similar to Keras's and TFLearn's abstraction to layers, so it's easy to pickup.\n",
    "\n",
    ">However, if you would like to get the most out of this course, try to solve all the problems _without_ using anything from the TF Layers packages. You **can** still use classes from other packages that happen to have the same name as ones you find in TF Layers! For example, instead of using the TF Layers version of the `conv2d` class, [tf.layers.conv2d](https://www.tensorflow.org/api_docs/python/tf/layers/conv2d), you would want to use the TF Neural Network version of `conv2d`, [tf.nn.conv2d](https://www.tensorflow.org/api_docs/python/tf/nn/conv2d). \n",
    "\n",
    "Let's begin!\n",
    "\n",
    "### Input\n",
    "The neural network needs to read the image data, one-hot encoded labels, and dropout keep probability. Implement the following functions\n",
    "* Implement `neural_net_image_input`\n",
    " * Return a [TF Placeholder](https://www.tensorflow.org/api_docs/python/tf/placeholder)\n",
    " * Set the shape using `image_shape` with batch size set to `None`.\n",
    " * Name the TensorFlow placeholder \"x\" using the TensorFlow `name` parameter in the [TF Placeholder](https://www.tensorflow.org/api_docs/python/tf/placeholder).\n",
    "* Implement `neural_net_label_input`\n",
    " * Return a [TF Placeholder](https://www.tensorflow.org/api_docs/python/tf/placeholder)\n",
    " * Set the shape using `n_classes` with batch size set to `None`.\n",
    " * Name the TensorFlow placeholder \"y\" using the TensorFlow `name` parameter in the [TF Placeholder](https://www.tensorflow.org/api_docs/python/tf/placeholder).\n",
    "* Implement `neural_net_keep_prob_input`\n",
    " * Return a [TF Placeholder](https://www.tensorflow.org/api_docs/python/tf/placeholder) for dropout keep probability.\n",
    " * Name the TensorFlow placeholder \"keep_prob\" using the TensorFlow `name` parameter in the [TF Placeholder](https://www.tensorflow.org/api_docs/python/tf/placeholder).\n",
    "\n",
    "These names will be used at the end of the project to load your saved model.\n",
    "\n",
    "Note: `None` for shapes in TensorFlow allow for a dynamic size."
   ]
  },
  {
   "cell_type": "code",
   "execution_count": 7,
   "metadata": {
    "collapsed": false
   },
   "outputs": [
    {
     "name": "stdout",
     "output_type": "stream",
     "text": [
      "Image Input Tests Passed.\n",
      "Label Input Tests Passed.\n",
      "Keep Prob Tests Passed.\n"
     ]
    }
   ],
   "source": [
    "import tensorflow as tf\n",
    "\n",
    "def neural_net_image_input(image_shape):\n",
    "    \"\"\"\n",
    "    Return a Tensor for a batch of image input\n",
    "    : image_shape: Shape of the images\n",
    "    : return: Tensor for image input.\n",
    "    \"\"\"\n",
    "    # TODO: Implement Function\n",
    "    return tf.placeholder(tf.float32, shape = (None, *image_shape), name ='x')\n",
    "\n",
    "\n",
    "def neural_net_label_input(n_classes):\n",
    "    \"\"\"\n",
    "    Return a Tensor for a batch of label input\n",
    "    : n_classes: Number of classes\n",
    "    : return: Tensor for label input.\n",
    "    \"\"\"\n",
    "    # TODO: Implement Function\n",
    "    return tf.placeholder(tf.float32, shape = (None, n_classes), name = 'y')\n",
    "\n",
    "\n",
    "def neural_net_keep_prob_input():\n",
    "    \"\"\"\n",
    "    Return a Tensor for keep probability\n",
    "    : return: Tensor for keep probability.\n",
    "    \"\"\"\n",
    "    # TODO: Implement Function\n",
    "    return tf.placeholder(tf.float32, name = 'keep_prob')\n",
    "\n",
    "\n",
    "\"\"\"\n",
    "DON'T MODIFY ANYTHING IN THIS CELL THAT IS BELOW THIS LINE\n",
    "\"\"\"\n",
    "tf.reset_default_graph()\n",
    "tests.test_nn_image_inputs(neural_net_image_input)\n",
    "tests.test_nn_label_inputs(neural_net_label_input)\n",
    "tests.test_nn_keep_prob_inputs(neural_net_keep_prob_input)"
   ]
  },
  {
   "cell_type": "markdown",
   "metadata": {},
   "source": [
    "### Convolution and Max Pooling Layer\n",
    "Convolution layers have a lot of success with images. For this code cell, you should implement the function `conv2d_maxpool` to apply convolution then max pooling:\n",
    "* Create the weight and bias using `conv_ksize`, `conv_num_outputs` and the shape of `x_tensor`.\n",
    "* Apply a convolution to `x_tensor` using weight and `conv_strides`.\n",
    " * We recommend you use same padding, but you're welcome to use any padding.\n",
    "* Add bias\n",
    "* Add a nonlinear activation to the convolution.\n",
    "* Apply Max Pooling using `pool_ksize` and `pool_strides`.\n",
    " * We recommend you use same padding, but you're welcome to use any padding.\n",
    "\n",
    "**Note:** You **can't** use [TensorFlow Layers](https://www.tensorflow.org/api_docs/python/tf/layers) or [TensorFlow Layers (contrib)](https://www.tensorflow.org/api_guides/python/contrib.layers) for **this** layer, but you can still use TensorFlow's [Neural Network](https://www.tensorflow.org/api_docs/python/tf/nn) package. You may still use the shortcut option for all the **other** layers.\n",
    "\n",
    "** Hint: **\n",
    "\n",
    "When unpacking values as an argument in Python, look into the [unpacking](https://docs.python.org/3/tutorial/controlflow.html#unpacking-argument-lists) operator. "
   ]
  },
  {
   "cell_type": "code",
   "execution_count": 8,
   "metadata": {
    "collapsed": false
   },
   "outputs": [
    {
     "name": "stdout",
     "output_type": "stream",
     "text": [
      "Tests Passed\n"
     ]
    }
   ],
   "source": [
    "def conv2d_maxpool(x_tensor, conv_num_outputs, conv_ksize, conv_strides, pool_ksize, pool_strides):\n",
    "    \"\"\"\n",
    "    Apply convolution then max pooling to x_tensor\n",
    "    :param x_tensor: TensorFlow Tensor\n",
    "    :param conv_num_outputs: Number of outputs for the convolutional layer\n",
    "    :param conv_ksize: kernal size 2-D Tuple for the convolutional layer\n",
    "    :param conv_strides: Stride 2-D Tuple for convolution\n",
    "    :param pool_ksize: kernal size 2-D Tuple for pool\n",
    "    :param pool_strides: Stride 2-D Tuple for pool\n",
    "    : return: A tensor that represents convolution and max pooling of x_tensor\n",
    "    \"\"\"\n",
    "    # TODO: Implement Function\n",
    "    \n",
    "    conv_ksize = [1, conv_ksize[0], conv_ksize[1], 1]\n",
    "    conv_num_inputs = x_tensor.get_shape().as_list()[3]\n",
    "    conv_weight = tf.Variable(tf.truncated_normal([conv_ksize[0], conv_ksize[1], conv_num_inputs, conv_num_outputs], stddev = 0.1))\n",
    "    conv_bias = tf.Variable(tf.zeros(conv_num_outputs))\n",
    "    strides = [1, conv_strides[0], conv_strides[1],1]\n",
    "    conv = tf.nn.conv2d(x_tensor, conv_weight, strides = strides, padding = 'SAME') + conv_bias\n",
    "    conv = tf.nn.relu(conv)\n",
    "    \n",
    "    pool_ksize = [1, pool_ksize[0],pool_ksize[1],1]\n",
    "    pool_strides = [1, pool_strides[0],pool_strides[1],1]\n",
    "    max_pooling_conv = tf.nn.max_pool(conv, ksize = pool_ksize, strides = pool_strides, padding = 'SAME')\n",
    "\n",
    "    return max_pooling_conv\n",
    "\n",
    "\n",
    "\"\"\"\n",
    "DON'T MODIFY ANYTHING IN THIS CELL THAT IS BELOW THIS LINE\n",
    "\"\"\"\n",
    "tests.test_con_pool(conv2d_maxpool)"
   ]
  },
  {
   "cell_type": "markdown",
   "metadata": {},
   "source": [
    "### Flatten Layer\n",
    "Implement the `flatten` function to change the dimension of `x_tensor` from a 4-D tensor to a 2-D tensor.  The output should be the shape (*Batch Size*, *Flattened Image Size*). Shortcut option: you can use classes from the [TensorFlow Layers](https://www.tensorflow.org/api_docs/python/tf/layers) or [TensorFlow Layers (contrib)](https://www.tensorflow.org/api_guides/python/contrib.layers) packages for this layer. For more of a challenge, only use other TensorFlow packages."
   ]
  },
  {
   "cell_type": "code",
   "execution_count": 9,
   "metadata": {
    "collapsed": false
   },
   "outputs": [
    {
     "name": "stdout",
     "output_type": "stream",
     "text": [
      "Tests Passed\n"
     ]
    }
   ],
   "source": [
    "def flatten(x_tensor):\n",
    "    \"\"\"\n",
    "    Flatten x_tensor to (Batch Size, Flattened Image Size)\n",
    "    : x_tensor: A tensor of size (Batch Size, ...), where ... are the image dimensions.\n",
    "    : return: A tensor of size (Batch Size, Flattened Image Size).\n",
    "    \"\"\"\n",
    "    # TODO: Implement Function\n",
    "    return tf.contrib.layers.flatten(x_tensor)\n",
    "\n",
    "\n",
    "\"\"\"\n",
    "DON'T MODIFY ANYTHING IN THIS CELL THAT IS BELOW THIS LINE\n",
    "\"\"\"\n",
    "tests.test_flatten(flatten)"
   ]
  },
  {
   "cell_type": "markdown",
   "metadata": {},
   "source": [
    "### Fully-Connected Layer\n",
    "Implement the `fully_conn` function to apply a fully connected layer to `x_tensor` with the shape (*Batch Size*, *num_outputs*). Shortcut option: you can use classes from the [TensorFlow Layers](https://www.tensorflow.org/api_docs/python/tf/layers) or [TensorFlow Layers (contrib)](https://www.tensorflow.org/api_guides/python/contrib.layers) packages for this layer. For more of a challenge, only use other TensorFlow packages."
   ]
  },
  {
   "cell_type": "code",
   "execution_count": 10,
   "metadata": {
    "collapsed": false
   },
   "outputs": [
    {
     "name": "stdout",
     "output_type": "stream",
     "text": [
      "Tests Passed\n"
     ]
    }
   ],
   "source": [
    "def fully_conn(x_tensor, num_outputs):\n",
    "    \"\"\"\n",
    "    Apply a fully connected layer to x_tensor using weight and bias\n",
    "    : x_tensor: A 2-D tensor where the first dimension is batch size.\n",
    "    : num_outputs: The number of output that the new tensor should be.\n",
    "    : return: A 2-D tensor where the second dimension is num_outputs.\n",
    "    \"\"\"\n",
    "    # TODO: Implement Function\n",
    "    width = x_tensor.get_shape().as_list()[1]\n",
    "    weight = tf.Variable(tf.truncated_normal(([width, num_outputs]), stddev = 0.1))\n",
    "    bias = tf.Variable(tf.zeros(num_outputs))\n",
    "    output = tf.add(tf.matmul(x_tensor, weight),bias)\n",
    "    return tf.nn.relu(output)\n",
    "\n",
    "\n",
    "\"\"\"\n",
    "DON'T MODIFY ANYTHING IN THIS CELL THAT IS BELOW THIS LINE\n",
    "\"\"\"\n",
    "tests.test_fully_conn(fully_conn)"
   ]
  },
  {
   "cell_type": "markdown",
   "metadata": {},
   "source": [
    "### Output Layer\n",
    "Implement the `output` function to apply a fully connected layer to `x_tensor` with the shape (*Batch Size*, *num_outputs*). Shortcut option: you can use classes from the [TensorFlow Layers](https://www.tensorflow.org/api_docs/python/tf/layers) or [TensorFlow Layers (contrib)](https://www.tensorflow.org/api_guides/python/contrib.layers) packages for this layer. For more of a challenge, only use other TensorFlow packages.\n",
    "\n",
    "**Note:** Activation, softmax, or cross entropy should **not** be applied to this."
   ]
  },
  {
   "cell_type": "code",
   "execution_count": 12,
   "metadata": {
    "collapsed": false
   },
   "outputs": [
    {
     "name": "stdout",
     "output_type": "stream",
     "text": [
      "Tests Passed\n"
     ]
    }
   ],
   "source": [
    "def output(x_tensor, num_outputs):\n",
    "    \"\"\"\n",
    "    Apply a output layer to x_tensor using weight and bias\n",
    "    : x_tensor: A 2-D tensor where the first dimension is batch size.\n",
    "    : num_outputs: The number of output that the new tensor should be.\n",
    "    : return: A 2-D tensor where the second dimension is num_outputs.\n",
    "    \"\"\"\n",
    "    # TODO: Implement Function\n",
    "    width = x_tensor.get_shape().as_list()[1]\n",
    "    weight = tf.Variable(tf.truncated_normal([width, num_outputs], stddev = 0.1))\n",
    "    bias = tf.Variable(tf.zeros(num_outputs))\n",
    "    output = tf.nn.bias_add(tf.matmul(x_tensor, weight), bias)\n",
    "    return output\n",
    "\n",
    "\n",
    "\"\"\"\n",
    "DON'T MODIFY ANYTHING IN THIS CELL THAT IS BELOW THIS LINE\n",
    "\"\"\"\n",
    "tests.test_output(output)"
   ]
  },
  {
   "cell_type": "markdown",
   "metadata": {},
   "source": [
    "### Create Convolutional Model\n",
    "Implement the function `conv_net` to create a convolutional neural network model. The function takes in a batch of images, `x`, and outputs logits.  Use the layers you created above to create this model:\n",
    "\n",
    "* Apply 1, 2, or 3 Convolution and Max Pool layers\n",
    "* Apply a Flatten Layer\n",
    "* Apply 1, 2, or 3 Fully Connected Layers\n",
    "* Apply an Output Layer\n",
    "* Return the output\n",
    "* Apply [TensorFlow's Dropout](https://www.tensorflow.org/api_docs/python/tf/nn/dropout) to one or more layers in the model using `keep_prob`. "
   ]
  },
  {
   "cell_type": "code",
   "execution_count": 14,
   "metadata": {
    "collapsed": false
   },
   "outputs": [
    {
     "name": "stdout",
     "output_type": "stream",
     "text": [
      "Neural Network Built!\n"
     ]
    }
   ],
   "source": [
    "def conv_net(x, keep_prob):\n",
    "    \"\"\"\n",
    "    Create a convolutional neural network model\n",
    "    : x: Placeholder tensor that holds image data.\n",
    "    : keep_prob: Placeholder tensor that hold dropout keep probability.\n",
    "    : return: Tensor that represents logits\n",
    "    \"\"\"\n",
    "    # TODO: Apply 1, 2, or 3 Convolution and Max Pool layers\n",
    "    #    Play around with different number of outputs, kernel size and stride\n",
    "    # Function Definition from Above:\n",
    "    #    conv2d_maxpool(x_tensor, conv_num_outputs, conv_ksize, conv_strides, pool_ksize, pool_strides)\n",
    "    conv_num_outputs_1 = 32\n",
    "    conv_num_outputs_2 = 64\n",
    "    conv_num_outputs_3 = 128\n",
    "    \n",
    "    conv_ksize = [3, 3]\n",
    "    conv_strides = [1, 1]\n",
    "    pool_ksize = [2, 2]\n",
    "    pool_strides = [2, 2]\n",
    "    \n",
    "    conv_layer_1 = conv2d_maxpool(x, conv_num_outputs_1, conv_ksize, conv_strides, pool_ksize, pool_strides)\n",
    "    conv_layer_2 = conv2d_maxpool(conv_layer_1, conv_num_outputs_2, conv_ksize, conv_strides, pool_ksize, pool_strides)\n",
    "    conv_layer_3 = conv2d_maxpool(conv_layer_2, conv_num_outputs_3, conv_ksize, conv_strides, pool_ksize, pool_strides)\n",
    "    \n",
    "    # TODO: Apply a Flatten Layer\n",
    "    # Function Definition from Above:\n",
    "    #   flatten(x_tensor)\n",
    "    flatten_layer = flatten(conv_layer_3)\n",
    "    \n",
    "    # TODO: Apply 1, 2, or 3 Fully Connected Layers\n",
    "    #    Play around with different number of outputs\n",
    "    # Function Definition from Above:\n",
    "    #   fully_conn(x_tensor, num_outputs)\n",
    "    fully_connected_layer_1 = fully_conn(flatten_layer, 100)\n",
    "    fully_dropout = tf.nn.dropout(fully_connected_layer_1, keep_prob)\n",
    "    fully_connected_layer_2 = fully_conn(fully_dropout, 100)\n",
    "    \n",
    "    \n",
    "    # TODO: Apply an Output Layer\n",
    "    #    Set this to the number of classes\n",
    "    # Function Definition from Above:\n",
    "    #   output(x_tensor, num_outputs)\n",
    "    output_layer = output(fully_connected_layer_2, 10)\n",
    "    \n",
    "    # TODO: return output\n",
    "    return output_layer\n",
    "\n",
    "\n",
    "\"\"\"\n",
    "DON'T MODIFY ANYTHING IN THIS CELL THAT IS BELOW THIS LINE\n",
    "\"\"\"\n",
    "\n",
    "##############################\n",
    "## Build the Neural Network ##\n",
    "##############################\n",
    "\n",
    "# Remove previous weights, bias, inputs, etc..\n",
    "tf.reset_default_graph()\n",
    "\n",
    "# Inputs\n",
    "x = neural_net_image_input((32, 32, 3))\n",
    "y = neural_net_label_input(10)\n",
    "keep_prob = neural_net_keep_prob_input()\n",
    "\n",
    "# Model\n",
    "logits = conv_net(x, keep_prob)\n",
    "\n",
    "# Name logits Tensor, so that is can be loaded from disk after training\n",
    "logits = tf.identity(logits, name='logits')\n",
    "\n",
    "# Loss and Optimizer\n",
    "cost = tf.reduce_mean(tf.nn.softmax_cross_entropy_with_logits(logits=logits, labels=y))\n",
    "optimizer = tf.train.AdamOptimizer().minimize(cost)\n",
    "\n",
    "# Accuracy\n",
    "correct_pred = tf.equal(tf.argmax(logits, 1), tf.argmax(y, 1))\n",
    "accuracy = tf.reduce_mean(tf.cast(correct_pred, tf.float32), name='accuracy')\n",
    "\n",
    "tests.test_conv_net(conv_net)"
   ]
  },
  {
   "cell_type": "markdown",
   "metadata": {},
   "source": [
    "## Train the Neural Network\n",
    "### Single Optimization\n",
    "Implement the function `train_neural_network` to do a single optimization.  The optimization should use `optimizer` to optimize in `session` with a `feed_dict` of the following:\n",
    "* `x` for image input\n",
    "* `y` for labels\n",
    "* `keep_prob` for keep probability for dropout\n",
    "\n",
    "This function will be called for each batch, so `tf.global_variables_initializer()` has already been called.\n",
    "\n",
    "Note: Nothing needs to be returned. This function is only optimizing the neural network."
   ]
  },
  {
   "cell_type": "code",
   "execution_count": 16,
   "metadata": {
    "collapsed": false
   },
   "outputs": [
    {
     "name": "stdout",
     "output_type": "stream",
     "text": [
      "Tests Passed\n"
     ]
    }
   ],
   "source": [
    "def train_neural_network(session, optimizer, keep_probability, feature_batch, label_batch):\n",
    "    \"\"\"\n",
    "    Optimize the session on a batch of images and labels\n",
    "    : session: Current TensorFlow session\n",
    "    : optimizer: TensorFlow optimizer function\n",
    "    : keep_probability: keep probability\n",
    "    : feature_batch: Batch of Numpy image data\n",
    "    : label_batch: Batch of Numpy label data\n",
    "    \"\"\"\n",
    "    # TODO: Implement Function\n",
    "    session.run(optimizer, feed_dict = {x: feature_batch, y: label_batch, keep_prob: keep_probability})\n",
    "\n",
    "\n",
    "\"\"\"\n",
    "DON'T MODIFY ANYTHING IN THIS CELL THAT IS BELOW THIS LINE\n",
    "\"\"\"\n",
    "tests.test_train_nn(train_neural_network)"
   ]
  },
  {
   "cell_type": "markdown",
   "metadata": {},
   "source": [
    "### Show Stats\n",
    "Implement the function `print_stats` to print loss and validation accuracy.  Use the global variables `valid_features` and `valid_labels` to calculate validation accuracy.  Use a keep probability of `1.0` to calculate the loss and validation accuracy."
   ]
  },
  {
   "cell_type": "code",
   "execution_count": 18,
   "metadata": {
    "collapsed": false
   },
   "outputs": [],
   "source": [
    "def print_stats(session, feature_batch, label_batch, cost, accuracy):\n",
    "    \"\"\"\n",
    "    Print information about loss and validation accuracy\n",
    "    : session: Current TensorFlow session\n",
    "    : feature_batch: Batch of Numpy image data\n",
    "    : label_batch: Batch of Numpy label data\n",
    "    : cost: TensorFlow cost function\n",
    "    : accuracy: TensorFlow accuracy function\n",
    "    \"\"\"\n",
    "    # TODO: Implement Function\n",
    "    loss = session.run(cost, feed_dict = {x: feature_batch, y: label_batch, keep_prob: 1.0})\n",
    "    accuracy = session.run(accuracy, feed_dict = {x: valid_features, y: valid_labels, keep_prob: 1.0})\n",
    "    print('Loss : {}'.format(loss))\n",
    "    print('Validation Accuracy : {}'.format(accuracy))"
   ]
  },
  {
   "cell_type": "markdown",
   "metadata": {},
   "source": [
    "### Hyperparameters\n",
    "Tune the following parameters:\n",
    "* Set `epochs` to the number of iterations until the network stops learning or start overfitting\n",
    "* Set `batch_size` to the highest number that your machine has memory for.  Most people set them to common sizes of memory:\n",
    " * 64\n",
    " * 128\n",
    " * 256\n",
    " * ...\n",
    "* Set `keep_probability` to the probability of keeping a node using dropout"
   ]
  },
  {
   "cell_type": "code",
   "execution_count": 19,
   "metadata": {
    "collapsed": true
   },
   "outputs": [],
   "source": [
    "# TODO: Tune Parameters\n",
    "epochs = 30\n",
    "batch_size = 123\n",
    "keep_probability = 0.8"
   ]
  },
  {
   "cell_type": "markdown",
   "metadata": {},
   "source": [
    "### Train on a Single CIFAR-10 Batch\n",
    "Instead of training the neural network on all the CIFAR-10 batches of data, let's use a single batch. This should save time while you iterate on the model to get a better accuracy.  Once the final validation accuracy is 50% or greater, run the model on all the data in the next section."
   ]
  },
  {
   "cell_type": "code",
   "execution_count": 20,
   "metadata": {
    "collapsed": false
   },
   "outputs": [
    {
     "name": "stdout",
     "output_type": "stream",
     "text": [
      "Checking the Training on a Single Batch...\n",
      "Epoch  1, CIFAR-10 Batch 1:  Loss : 2.0366101264953613\n",
      "Validation Accuracy : 0.27160000801086426\n",
      "Epoch  2, CIFAR-10 Batch 1:  Loss : 1.8013923168182373\n",
      "Validation Accuracy : 0.3776000142097473\n",
      "Epoch  3, CIFAR-10 Batch 1:  Loss : 1.4781596660614014\n",
      "Validation Accuracy : 0.4397999942302704\n",
      "Epoch  4, CIFAR-10 Batch 1:  Loss : 1.2954144477844238\n",
      "Validation Accuracy : 0.4668000042438507\n",
      "Epoch  5, CIFAR-10 Batch 1:  Loss : 1.212355375289917\n",
      "Validation Accuracy : 0.48820000886917114\n",
      "Epoch  6, CIFAR-10 Batch 1:  Loss : 1.0625211000442505\n",
      "Validation Accuracy : 0.49380001425743103\n",
      "Epoch  7, CIFAR-10 Batch 1:  Loss : 0.9650918245315552\n",
      "Validation Accuracy : 0.5040000081062317\n",
      "Epoch  8, CIFAR-10 Batch 1:  Loss : 0.8496573567390442\n",
      "Validation Accuracy : 0.5138000249862671\n",
      "Epoch  9, CIFAR-10 Batch 1:  Loss : 0.8394133448600769\n",
      "Validation Accuracy : 0.5203999876976013\n",
      "Epoch 10, CIFAR-10 Batch 1:  Loss : 0.7684759497642517\n",
      "Validation Accuracy : 0.5307999849319458\n",
      "Epoch 11, CIFAR-10 Batch 1:  Loss : 0.7166224718093872\n",
      "Validation Accuracy : 0.5351999998092651\n",
      "Epoch 12, CIFAR-10 Batch 1:  Loss : 0.6550533175468445\n",
      "Validation Accuracy : 0.5216000080108643\n",
      "Epoch 13, CIFAR-10 Batch 1:  Loss : 0.6228541731834412\n",
      "Validation Accuracy : 0.5472000241279602\n",
      "Epoch 14, CIFAR-10 Batch 1:  Loss : 0.5590535402297974\n",
      "Validation Accuracy : 0.5440000295639038\n",
      "Epoch 15, CIFAR-10 Batch 1:  Loss : 0.510613203048706\n",
      "Validation Accuracy : 0.5491999983787537\n",
      "Epoch 16, CIFAR-10 Batch 1:  Loss : 0.48021194338798523\n",
      "Validation Accuracy : 0.5616000294685364\n",
      "Epoch 17, CIFAR-10 Batch 1:  Loss : 0.4633013904094696\n",
      "Validation Accuracy : 0.5529999732971191\n",
      "Epoch 18, CIFAR-10 Batch 1:  Loss : 0.3897688388824463\n",
      "Validation Accuracy : 0.5699999928474426\n",
      "Epoch 19, CIFAR-10 Batch 1:  Loss : 0.3949788510799408\n",
      "Validation Accuracy : 0.5631999969482422\n",
      "Epoch 20, CIFAR-10 Batch 1:  Loss : 0.3806483745574951\n",
      "Validation Accuracy : 0.551800012588501\n",
      "Epoch 21, CIFAR-10 Batch 1:  Loss : 0.3375815451145172\n",
      "Validation Accuracy : 0.5623999834060669\n",
      "Epoch 22, CIFAR-10 Batch 1:  Loss : 0.3273899555206299\n",
      "Validation Accuracy : 0.5601999759674072\n",
      "Epoch 23, CIFAR-10 Batch 1:  Loss : 0.2224798947572708\n",
      "Validation Accuracy : 0.5633999705314636\n",
      "Epoch 24, CIFAR-10 Batch 1:  Loss : 0.243612602353096\n",
      "Validation Accuracy : 0.5598000288009644\n",
      "Epoch 25, CIFAR-10 Batch 1:  Loss : 0.19956102967262268\n",
      "Validation Accuracy : 0.5546000003814697\n",
      "Epoch 26, CIFAR-10 Batch 1:  Loss : 0.18092069029808044\n",
      "Validation Accuracy : 0.5605999827384949\n",
      "Epoch 27, CIFAR-10 Batch 1:  Loss : 0.1664115935564041\n",
      "Validation Accuracy : 0.5636000037193298\n",
      "Epoch 28, CIFAR-10 Batch 1:  Loss : 0.14940330386161804\n",
      "Validation Accuracy : 0.5680000185966492\n",
      "Epoch 29, CIFAR-10 Batch 1:  Loss : 0.19097046554088593\n",
      "Validation Accuracy : 0.54339998960495\n",
      "Epoch 30, CIFAR-10 Batch 1:  Loss : 0.136260986328125\n",
      "Validation Accuracy : 0.5501999855041504\n"
     ]
    }
   ],
   "source": [
    "\"\"\"\n",
    "DON'T MODIFY ANYTHING IN THIS CELL\n",
    "\"\"\"\n",
    "print('Checking the Training on a Single Batch...')\n",
    "with tf.Session() as sess:\n",
    "    # Initializing the variables\n",
    "    sess.run(tf.global_variables_initializer())\n",
    "    \n",
    "    # Training cycle\n",
    "    for epoch in range(epochs):\n",
    "        batch_i = 1\n",
    "        for batch_features, batch_labels in helper.load_preprocess_training_batch(batch_i, batch_size):\n",
    "            train_neural_network(sess, optimizer, keep_probability, batch_features, batch_labels)\n",
    "        print('Epoch {:>2}, CIFAR-10 Batch {}:  '.format(epoch + 1, batch_i), end='')\n",
    "        print_stats(sess, batch_features, batch_labels, cost, accuracy)"
   ]
  },
  {
   "cell_type": "markdown",
   "metadata": {},
   "source": [
    "### Fully Train the Model\n",
    "Now that you got a good accuracy with a single CIFAR-10 batch, try it with all five batches."
   ]
  },
  {
   "cell_type": "code",
   "execution_count": 21,
   "metadata": {
    "collapsed": false
   },
   "outputs": [
    {
     "name": "stdout",
     "output_type": "stream",
     "text": [
      "Training...\n",
      "Epoch  1, CIFAR-10 Batch 1:  Loss : 2.021193027496338\n",
      "Validation Accuracy : 0.26739999651908875\n",
      "Epoch  1, CIFAR-10 Batch 2:  Loss : 1.804503321647644\n",
      "Validation Accuracy : 0.3447999954223633\n",
      "Epoch  1, CIFAR-10 Batch 3:  Loss : 1.3506691455841064\n",
      "Validation Accuracy : 0.39500001072883606\n",
      "Epoch  1, CIFAR-10 Batch 4:  Loss : 1.6526654958724976\n",
      "Validation Accuracy : 0.438400000333786\n",
      "Epoch  1, CIFAR-10 Batch 5:  Loss : 1.4513925313949585\n",
      "Validation Accuracy : 0.44119998812675476\n",
      "Epoch  2, CIFAR-10 Batch 1:  Loss : 1.488288402557373\n",
      "Validation Accuracy : 0.47380000352859497\n",
      "Epoch  2, CIFAR-10 Batch 2:  Loss : 1.368539571762085\n",
      "Validation Accuracy : 0.4896000027656555\n",
      "Epoch  2, CIFAR-10 Batch 3:  Loss : 1.1691176891326904\n",
      "Validation Accuracy : 0.48260000348091125\n",
      "Epoch  2, CIFAR-10 Batch 4:  Loss : 1.4223496913909912\n",
      "Validation Accuracy : 0.520799994468689\n",
      "Epoch  2, CIFAR-10 Batch 5:  Loss : 1.1880357265472412\n",
      "Validation Accuracy : 0.5271999835968018\n",
      "Epoch  3, CIFAR-10 Batch 1:  Loss : 1.2297403812408447\n",
      "Validation Accuracy : 0.5249999761581421\n",
      "Epoch  3, CIFAR-10 Batch 2:  Loss : 1.0484020709991455\n",
      "Validation Accuracy : 0.5428000092506409\n",
      "Epoch  3, CIFAR-10 Batch 3:  Loss : 1.0059882402420044\n",
      "Validation Accuracy : 0.5311999917030334\n",
      "Epoch  3, CIFAR-10 Batch 4:  Loss : 1.1893919706344604\n",
      "Validation Accuracy : 0.5514000058174133\n",
      "Epoch  3, CIFAR-10 Batch 5:  Loss : 1.0044351816177368\n",
      "Validation Accuracy : 0.5626000165939331\n",
      "Epoch  4, CIFAR-10 Batch 1:  Loss : 1.155580759048462\n",
      "Validation Accuracy : 0.5648000240325928\n",
      "Epoch  4, CIFAR-10 Batch 2:  Loss : 0.9439401030540466\n",
      "Validation Accuracy : 0.5734000205993652\n",
      "Epoch  4, CIFAR-10 Batch 3:  Loss : 0.9485898017883301\n",
      "Validation Accuracy : 0.5631999969482422\n",
      "Epoch  4, CIFAR-10 Batch 4:  Loss : 1.1146295070648193\n",
      "Validation Accuracy : 0.578000009059906\n",
      "Epoch  4, CIFAR-10 Batch 5:  Loss : 0.8583490252494812\n",
      "Validation Accuracy : 0.5884000062942505\n",
      "Epoch  5, CIFAR-10 Batch 1:  Loss : 1.0711933374404907\n",
      "Validation Accuracy : 0.5888000130653381\n",
      "Epoch  5, CIFAR-10 Batch 2:  Loss : 0.8080692291259766\n",
      "Validation Accuracy : 0.5878000259399414\n",
      "Epoch  5, CIFAR-10 Batch 3:  Loss : 0.8348256349563599\n",
      "Validation Accuracy : 0.58160001039505\n",
      "Epoch  5, CIFAR-10 Batch 4:  Loss : 0.9602749347686768\n",
      "Validation Accuracy : 0.59579998254776\n",
      "Epoch  5, CIFAR-10 Batch 5:  Loss : 0.7740584015846252\n",
      "Validation Accuracy : 0.6074000000953674\n",
      "Epoch  6, CIFAR-10 Batch 1:  Loss : 0.9950091242790222\n",
      "Validation Accuracy : 0.5916000008583069\n",
      "Epoch  6, CIFAR-10 Batch 2:  Loss : 0.7193038463592529\n",
      "Validation Accuracy : 0.6050000190734863\n",
      "Epoch  6, CIFAR-10 Batch 3:  Loss : 0.7435330748558044\n",
      "Validation Accuracy : 0.6046000123023987\n",
      "Epoch  6, CIFAR-10 Batch 4:  Loss : 0.9130532145500183\n",
      "Validation Accuracy : 0.6011999845504761\n",
      "Epoch  6, CIFAR-10 Batch 5:  Loss : 0.7199636101722717\n",
      "Validation Accuracy : 0.6158000230789185\n",
      "Epoch  7, CIFAR-10 Batch 1:  Loss : 0.9338585734367371\n",
      "Validation Accuracy : 0.6029999852180481\n",
      "Epoch  7, CIFAR-10 Batch 2:  Loss : 0.5914608240127563\n",
      "Validation Accuracy : 0.6172000169754028\n",
      "Epoch  7, CIFAR-10 Batch 3:  Loss : 0.6773939728736877\n",
      "Validation Accuracy : 0.6215999722480774\n",
      "Epoch  7, CIFAR-10 Batch 4:  Loss : 0.76023930311203\n",
      "Validation Accuracy : 0.6179999709129333\n",
      "Epoch  7, CIFAR-10 Batch 5:  Loss : 0.6728166937828064\n",
      "Validation Accuracy : 0.6118000149726868\n",
      "Epoch  8, CIFAR-10 Batch 1:  Loss : 0.8178917169570923\n",
      "Validation Accuracy : 0.5961999893188477\n",
      "Epoch  8, CIFAR-10 Batch 2:  Loss : 0.5357438921928406\n",
      "Validation Accuracy : 0.6349999904632568\n",
      "Epoch  8, CIFAR-10 Batch 3:  Loss : 0.69292813539505\n",
      "Validation Accuracy : 0.5985999703407288\n",
      "Epoch  8, CIFAR-10 Batch 4:  Loss : 0.7377467155456543\n",
      "Validation Accuracy : 0.6262000203132629\n",
      "Epoch  8, CIFAR-10 Batch 5:  Loss : 0.5782883763313293\n",
      "Validation Accuracy : 0.6331999897956848\n",
      "Epoch  9, CIFAR-10 Batch 1:  Loss : 0.7933297157287598\n",
      "Validation Accuracy : 0.6237999796867371\n",
      "Epoch  9, CIFAR-10 Batch 2:  Loss : 0.4989762008190155\n",
      "Validation Accuracy : 0.6363999843597412\n",
      "Epoch  9, CIFAR-10 Batch 3:  Loss : 0.5543340444564819\n",
      "Validation Accuracy : 0.6248000264167786\n",
      "Epoch  9, CIFAR-10 Batch 4:  Loss : 0.658905565738678\n",
      "Validation Accuracy : 0.6425999999046326\n",
      "Epoch  9, CIFAR-10 Batch 5:  Loss : 0.553839385509491\n",
      "Validation Accuracy : 0.6366000175476074\n",
      "Epoch 10, CIFAR-10 Batch 1:  Loss : 0.6994015574455261\n",
      "Validation Accuracy : 0.6291999816894531\n",
      "Epoch 10, CIFAR-10 Batch 2:  Loss : 0.43249258399009705\n",
      "Validation Accuracy : 0.647599995136261\n",
      "Epoch 10, CIFAR-10 Batch 3:  Loss : 0.43230825662612915\n",
      "Validation Accuracy : 0.6380000114440918\n",
      "Epoch 10, CIFAR-10 Batch 4:  Loss : 0.5901451110839844\n",
      "Validation Accuracy : 0.6295999884605408\n",
      "Epoch 10, CIFAR-10 Batch 5:  Loss : 0.46964791417121887\n",
      "Validation Accuracy : 0.6502000093460083\n",
      "Epoch 11, CIFAR-10 Batch 1:  Loss : 0.6111412048339844\n",
      "Validation Accuracy : 0.628000020980835\n",
      "Epoch 11, CIFAR-10 Batch 2:  Loss : 0.3890340030193329\n",
      "Validation Accuracy : 0.6507999897003174\n",
      "Epoch 11, CIFAR-10 Batch 3:  Loss : 0.4111478924751282\n",
      "Validation Accuracy : 0.642799973487854\n",
      "Epoch 11, CIFAR-10 Batch 4:  Loss : 0.5244673490524292\n",
      "Validation Accuracy : 0.6452000141143799\n",
      "Epoch 11, CIFAR-10 Batch 5:  Loss : 0.4197470247745514\n",
      "Validation Accuracy : 0.6492000222206116\n",
      "Epoch 12, CIFAR-10 Batch 1:  Loss : 0.6106999516487122\n",
      "Validation Accuracy : 0.6399999856948853\n",
      "Epoch 12, CIFAR-10 Batch 2:  Loss : 0.3024643659591675\n",
      "Validation Accuracy : 0.6597999930381775\n",
      "Epoch 12, CIFAR-10 Batch 3:  Loss : 0.38918572664260864\n",
      "Validation Accuracy : 0.6503999829292297\n",
      "Epoch 12, CIFAR-10 Batch 4:  Loss : 0.510626494884491\n",
      "Validation Accuracy : 0.6520000100135803\n",
      "Epoch 12, CIFAR-10 Batch 5:  Loss : 0.3832871615886688\n",
      "Validation Accuracy : 0.6552000045776367\n",
      "Epoch 13, CIFAR-10 Batch 1:  Loss : 0.5093748569488525\n",
      "Validation Accuracy : 0.645799994468689\n",
      "Epoch 13, CIFAR-10 Batch 2:  Loss : 0.2708075940608978\n",
      "Validation Accuracy : 0.6651999950408936\n",
      "Epoch 13, CIFAR-10 Batch 3:  Loss : 0.34432750940322876\n",
      "Validation Accuracy : 0.6553999781608582\n",
      "Epoch 13, CIFAR-10 Batch 4:  Loss : 0.43738847970962524\n",
      "Validation Accuracy : 0.657800018787384\n",
      "Epoch 13, CIFAR-10 Batch 5:  Loss : 0.4058047831058502\n",
      "Validation Accuracy : 0.6481999754905701\n",
      "Epoch 14, CIFAR-10 Batch 1:  Loss : 0.4828580617904663\n",
      "Validation Accuracy : 0.6589999794960022\n",
      "Epoch 14, CIFAR-10 Batch 2:  Loss : 0.27719569206237793\n",
      "Validation Accuracy : 0.6575999855995178\n",
      "Epoch 14, CIFAR-10 Batch 3:  Loss : 0.303505539894104\n",
      "Validation Accuracy : 0.6614000201225281\n",
      "Epoch 14, CIFAR-10 Batch 4:  Loss : 0.4332302212715149\n",
      "Validation Accuracy : 0.6575999855995178\n",
      "Epoch 14, CIFAR-10 Batch 5:  Loss : 0.3381606340408325\n",
      "Validation Accuracy : 0.650600016117096\n",
      "Epoch 15, CIFAR-10 Batch 1:  Loss : 0.4279734194278717\n",
      "Validation Accuracy : 0.6349999904632568\n",
      "Epoch 15, CIFAR-10 Batch 2:  Loss : 0.24271413683891296\n",
      "Validation Accuracy : 0.6643999814987183\n",
      "Epoch 15, CIFAR-10 Batch 3:  Loss : 0.29075849056243896\n",
      "Validation Accuracy : 0.6574000120162964\n",
      "Epoch 15, CIFAR-10 Batch 4:  Loss : 0.3650873005390167\n",
      "Validation Accuracy : 0.6638000011444092\n",
      "Epoch 15, CIFAR-10 Batch 5:  Loss : 0.28076308965682983\n",
      "Validation Accuracy : 0.642799973487854\n",
      "Epoch 16, CIFAR-10 Batch 1:  Loss : 0.3455928862094879\n",
      "Validation Accuracy : 0.6262000203132629\n",
      "Epoch 16, CIFAR-10 Batch 2:  Loss : 0.20446288585662842\n",
      "Validation Accuracy : 0.670199990272522\n",
      "Epoch 16, CIFAR-10 Batch 3:  Loss : 0.25024494528770447\n",
      "Validation Accuracy : 0.6654000282287598\n",
      "Epoch 16, CIFAR-10 Batch 4:  Loss : 0.30780351161956787\n",
      "Validation Accuracy : 0.6611999869346619\n",
      "Epoch 16, CIFAR-10 Batch 5:  Loss : 0.2587134540081024\n",
      "Validation Accuracy : 0.6579999923706055\n",
      "Epoch 17, CIFAR-10 Batch 1:  Loss : 0.3421088457107544\n",
      "Validation Accuracy : 0.6266000270843506\n",
      "Epoch 17, CIFAR-10 Batch 2:  Loss : 0.17159512639045715\n",
      "Validation Accuracy : 0.6705999970436096\n",
      "Epoch 17, CIFAR-10 Batch 3:  Loss : 0.2528296709060669\n",
      "Validation Accuracy : 0.6481999754905701\n",
      "Epoch 17, CIFAR-10 Batch 4:  Loss : 0.24521373212337494\n",
      "Validation Accuracy : 0.6669999957084656\n",
      "Epoch 17, CIFAR-10 Batch 5:  Loss : 0.25156110525131226\n",
      "Validation Accuracy : 0.6462000012397766\n",
      "Epoch 18, CIFAR-10 Batch 1:  Loss : 0.3173779845237732\n",
      "Validation Accuracy : 0.6331999897956848\n",
      "Epoch 18, CIFAR-10 Batch 2:  Loss : 0.16017642617225647\n",
      "Validation Accuracy : 0.6696000099182129\n",
      "Epoch 18, CIFAR-10 Batch 3:  Loss : 0.19403687119483948\n",
      "Validation Accuracy : 0.6607999801635742\n",
      "Epoch 18, CIFAR-10 Batch 4:  Loss : 0.2682669460773468\n",
      "Validation Accuracy : 0.6633999943733215\n",
      "Epoch 18, CIFAR-10 Batch 5:  Loss : 0.21723724901676178\n",
      "Validation Accuracy : 0.645799994468689\n",
      "Epoch 19, CIFAR-10 Batch 1:  Loss : 0.2458432912826538\n",
      "Validation Accuracy : 0.6462000012397766\n",
      "Epoch 19, CIFAR-10 Batch 2:  Loss : 0.14743877947330475\n",
      "Validation Accuracy : 0.6715999841690063\n",
      "Epoch 19, CIFAR-10 Batch 3:  Loss : 0.21048109233379364\n",
      "Validation Accuracy : 0.6498000025749207\n",
      "Epoch 19, CIFAR-10 Batch 4:  Loss : 0.23652741312980652\n",
      "Validation Accuracy : 0.647599995136261\n",
      "Epoch 19, CIFAR-10 Batch 5:  Loss : 0.23714295029640198\n",
      "Validation Accuracy : 0.659600019454956\n",
      "Epoch 20, CIFAR-10 Batch 1:  Loss : 0.26150476932525635\n",
      "Validation Accuracy : 0.6413999795913696\n",
      "Epoch 20, CIFAR-10 Batch 2:  Loss : 0.15696276724338531\n",
      "Validation Accuracy : 0.6664000153541565\n",
      "Epoch 20, CIFAR-10 Batch 3:  Loss : 0.2299271523952484\n",
      "Validation Accuracy : 0.6421999931335449\n",
      "Epoch 20, CIFAR-10 Batch 4:  Loss : 0.24376869201660156\n",
      "Validation Accuracy : 0.65420001745224\n",
      "Epoch 20, CIFAR-10 Batch 5:  Loss : 0.18360458314418793\n",
      "Validation Accuracy : 0.6552000045776367\n",
      "Epoch 21, CIFAR-10 Batch 1:  Loss : 0.2554264962673187\n",
      "Validation Accuracy : 0.6534000039100647\n",
      "Epoch 21, CIFAR-10 Batch 2:  Loss : 0.15247778594493866\n",
      "Validation Accuracy : 0.6660000085830688\n",
      "Epoch 21, CIFAR-10 Batch 3:  Loss : 0.18635278940200806\n",
      "Validation Accuracy : 0.6647999882698059\n",
      "Epoch 21, CIFAR-10 Batch 4:  Loss : 0.21729499101638794\n",
      "Validation Accuracy : 0.6528000235557556\n",
      "Epoch 21, CIFAR-10 Batch 5:  Loss : 0.1792571246623993\n",
      "Validation Accuracy : 0.6615999937057495\n",
      "Epoch 22, CIFAR-10 Batch 1:  Loss : 0.20330224931240082\n",
      "Validation Accuracy : 0.6567999720573425\n",
      "Epoch 22, CIFAR-10 Batch 2:  Loss : 0.12847678363323212\n",
      "Validation Accuracy : 0.6674000024795532\n",
      "Epoch 22, CIFAR-10 Batch 3:  Loss : 0.17589779198169708\n",
      "Validation Accuracy : 0.6632000207901001\n",
      "Epoch 22, CIFAR-10 Batch 4:  Loss : 0.21468889713287354\n",
      "Validation Accuracy : 0.6403999924659729\n",
      "Epoch 22, CIFAR-10 Batch 5:  Loss : 0.17268244922161102\n",
      "Validation Accuracy : 0.6561999917030334\n",
      "Epoch 23, CIFAR-10 Batch 1:  Loss : 0.17448189854621887\n",
      "Validation Accuracy : 0.6621999740600586\n",
      "Epoch 23, CIFAR-10 Batch 2:  Loss : 0.1354445517063141\n",
      "Validation Accuracy : 0.6686000227928162\n",
      "Epoch 23, CIFAR-10 Batch 3:  Loss : 0.1560918688774109\n",
      "Validation Accuracy : 0.6549999713897705\n",
      "Epoch 23, CIFAR-10 Batch 4:  Loss : 0.22690148651599884\n",
      "Validation Accuracy : 0.6470000147819519\n",
      "Epoch 23, CIFAR-10 Batch 5:  Loss : 0.16838674247264862\n",
      "Validation Accuracy : 0.6539999842643738\n",
      "Epoch 24, CIFAR-10 Batch 1:  Loss : 0.14765311777591705\n",
      "Validation Accuracy : 0.6556000113487244\n",
      "Epoch 24, CIFAR-10 Batch 2:  Loss : 0.10287149995565414\n",
      "Validation Accuracy : 0.6660000085830688\n",
      "Epoch 24, CIFAR-10 Batch 3:  Loss : 0.1313805729150772\n",
      "Validation Accuracy : 0.6547999978065491\n",
      "Epoch 24, CIFAR-10 Batch 4:  Loss : 0.1799163520336151\n",
      "Validation Accuracy : 0.6546000242233276\n",
      "Epoch 24, CIFAR-10 Batch 5:  Loss : 0.14337830245494843\n",
      "Validation Accuracy : 0.6643999814987183\n",
      "Epoch 25, CIFAR-10 Batch 1:  Loss : 0.13868291676044464\n",
      "Validation Accuracy : 0.6525999903678894\n",
      "Epoch 25, CIFAR-10 Batch 2:  Loss : 0.10973121970891953\n",
      "Validation Accuracy : 0.6589999794960022\n",
      "Epoch 25, CIFAR-10 Batch 3:  Loss : 0.1346796303987503\n",
      "Validation Accuracy : 0.6592000126838684\n",
      "Epoch 25, CIFAR-10 Batch 4:  Loss : 0.21243712306022644\n",
      "Validation Accuracy : 0.6539999842643738\n",
      "Epoch 25, CIFAR-10 Batch 5:  Loss : 0.1802079826593399\n",
      "Validation Accuracy : 0.6614000201225281\n",
      "Epoch 26, CIFAR-10 Batch 1:  Loss : 0.1472737044095993\n",
      "Validation Accuracy : 0.65420001745224\n",
      "Epoch 26, CIFAR-10 Batch 2:  Loss : 0.10909418016672134\n",
      "Validation Accuracy : 0.6575999855995178\n",
      "Epoch 26, CIFAR-10 Batch 3:  Loss : 0.11997716873884201\n",
      "Validation Accuracy : 0.6636000275611877\n",
      "Epoch 26, CIFAR-10 Batch 4:  Loss : 0.15043146908283234\n",
      "Validation Accuracy : 0.6489999890327454\n",
      "Epoch 26, CIFAR-10 Batch 5:  Loss : 0.13857194781303406\n",
      "Validation Accuracy : 0.6668000221252441\n",
      "Epoch 27, CIFAR-10 Batch 1:  Loss : 0.14681920409202576\n",
      "Validation Accuracy : 0.6657999753952026\n",
      "Epoch 27, CIFAR-10 Batch 2:  Loss : 0.07550445944070816\n",
      "Validation Accuracy : 0.6538000106811523\n",
      "Epoch 27, CIFAR-10 Batch 3:  Loss : 0.1153726577758789\n",
      "Validation Accuracy : 0.6632000207901001\n",
      "Epoch 27, CIFAR-10 Batch 4:  Loss : 0.15184447169303894\n",
      "Validation Accuracy : 0.6444000005722046\n",
      "Epoch 27, CIFAR-10 Batch 5:  Loss : 0.12730498611927032\n",
      "Validation Accuracy : 0.6624000072479248\n",
      "Epoch 28, CIFAR-10 Batch 1:  Loss : 0.12424880266189575\n",
      "Validation Accuracy : 0.6556000113487244\n",
      "Epoch 28, CIFAR-10 Batch 2:  Loss : 0.09340418875217438\n",
      "Validation Accuracy : 0.6579999923706055\n",
      "Epoch 28, CIFAR-10 Batch 3:  Loss : 0.11563008278608322\n",
      "Validation Accuracy : 0.6503999829292297\n",
      "Epoch 28, CIFAR-10 Batch 4:  Loss : 0.154596745967865\n",
      "Validation Accuracy : 0.6485999822616577\n",
      "Epoch 28, CIFAR-10 Batch 5:  Loss : 0.12575401365756989\n",
      "Validation Accuracy : 0.6624000072479248\n",
      "Epoch 29, CIFAR-10 Batch 1:  Loss : 0.13501866161823273\n",
      "Validation Accuracy : 0.6547999978065491\n",
      "Epoch 29, CIFAR-10 Batch 2:  Loss : 0.07174777239561081\n",
      "Validation Accuracy : 0.6690000295639038\n",
      "Epoch 29, CIFAR-10 Batch 3:  Loss : 0.086311474442482\n",
      "Validation Accuracy : 0.6567999720573425\n",
      "Epoch 29, CIFAR-10 Batch 4:  Loss : 0.15287072956562042\n",
      "Validation Accuracy : 0.642799973487854\n",
      "Epoch 29, CIFAR-10 Batch 5:  Loss : 0.11483552306890488\n",
      "Validation Accuracy : 0.6678000092506409\n",
      "Epoch 30, CIFAR-10 Batch 1:  Loss : 0.10592897981405258\n",
      "Validation Accuracy : 0.6654000282287598\n",
      "Epoch 30, CIFAR-10 Batch 2:  Loss : 0.060745880007743835\n",
      "Validation Accuracy : 0.6588000059127808\n",
      "Epoch 30, CIFAR-10 Batch 3:  Loss : 0.126979261636734\n",
      "Validation Accuracy : 0.6452000141143799\n",
      "Epoch 30, CIFAR-10 Batch 4:  Loss : 0.13692955672740936\n",
      "Validation Accuracy : 0.6452000141143799\n",
      "Epoch 30, CIFAR-10 Batch 5:  Loss : 0.09960642457008362\n",
      "Validation Accuracy : 0.6693999767303467\n"
     ]
    }
   ],
   "source": [
    "\"\"\"\n",
    "DON'T MODIFY ANYTHING IN THIS CELL\n",
    "\"\"\"\n",
    "save_model_path = './image_classification'\n",
    "\n",
    "print('Training...')\n",
    "with tf.Session() as sess:\n",
    "    # Initializing the variables\n",
    "    sess.run(tf.global_variables_initializer())\n",
    "    \n",
    "    # Training cycle\n",
    "    for epoch in range(epochs):\n",
    "        # Loop over all batches\n",
    "        n_batches = 5\n",
    "        for batch_i in range(1, n_batches + 1):\n",
    "            for batch_features, batch_labels in helper.load_preprocess_training_batch(batch_i, batch_size):\n",
    "                train_neural_network(sess, optimizer, keep_probability, batch_features, batch_labels)\n",
    "            print('Epoch {:>2}, CIFAR-10 Batch {}:  '.format(epoch + 1, batch_i), end='')\n",
    "            print_stats(sess, batch_features, batch_labels, cost, accuracy)\n",
    "            \n",
    "    # Save Model\n",
    "    saver = tf.train.Saver()\n",
    "    save_path = saver.save(sess, save_model_path)"
   ]
  },
  {
   "cell_type": "markdown",
   "metadata": {},
   "source": [
    "# Checkpoint\n",
    "The model has been saved to disk.\n",
    "## Test Model\n",
    "Test your model against the test dataset.  This will be your final accuracy. You should have an accuracy greater than 50%. If you don't, keep tweaking the model architecture and parameters."
   ]
  },
  {
   "cell_type": "code",
   "execution_count": 22,
   "metadata": {
    "collapsed": false
   },
   "outputs": [
    {
     "name": "stdout",
     "output_type": "stream",
     "text": [
      "INFO:tensorflow:Restoring parameters from ./image_classification\n",
      "Testing Accuracy: 0.6579899351771284\n",
      "\n"
     ]
    },
    {
     "data": {
      "image/png": "[encoded data removed]",
      "text/plain": [
       "<matplotlib.figure.Figure at 0x1142732b0>"
      ]
     },
     "metadata": {
      "image/png": {
       "height": 319,
       "width": 355
      }
     },
     "output_type": "display_data"
    }
   ],
   "source": [
    "\"\"\"\n",
    "DON'T MODIFY ANYTHING IN THIS CELL\n",
    "\"\"\"\n",
    "%matplotlib inline\n",
    "%config InlineBackend.figure_format = 'retina'\n",
    "\n",
    "import tensorflow as tf\n",
    "import pickle\n",
    "import helper\n",
    "import random\n",
    "\n",
    "# Set batch size if not already set\n",
    "try:\n",
    "    if batch_size:\n",
    "        pass\n",
    "except NameError:\n",
    "    batch_size = 64\n",
    "\n",
    "save_model_path = './image_classification'\n",
    "n_samples = 4\n",
    "top_n_predictions = 3\n",
    "\n",
    "def test_model():\n",
    "    \"\"\"\n",
    "    Test the saved model against the test dataset\n",
    "    \"\"\"\n",
    "\n",
    "    test_features, test_labels = pickle.load(open('preprocess_training.p', mode='rb'))\n",
    "    loaded_graph = tf.Graph()\n",
    "\n",
    "    with tf.Session(graph=loaded_graph) as sess:\n",
    "        # Load model\n",
    "        loader = tf.train.import_meta_graph(save_model_path + '.meta')\n",
    "        loader.restore(sess, save_model_path)\n",
    "\n",
    "        # Get Tensors from loaded model\n",
    "        loaded_x = loaded_graph.get_tensor_by_name('x:0')\n",
    "        loaded_y = loaded_graph.get_tensor_by_name('y:0')\n",
    "        loaded_keep_prob = loaded_graph.get_tensor_by_name('keep_prob:0')\n",
    "        loaded_logits = loaded_graph.get_tensor_by_name('logits:0')\n",
    "        loaded_acc = loaded_graph.get_tensor_by_name('accuracy:0')\n",
    "        \n",
    "        # Get accuracy in batches for memory limitations\n",
    "        test_batch_acc_total = 0\n",
    "        test_batch_count = 0\n",
    "        \n",
    "        for train_feature_batch, train_label_batch in helper.batch_features_labels(test_features, test_labels, batch_size):\n",
    "            test_batch_acc_total += sess.run(\n",
    "                loaded_acc,\n",
    "                feed_dict={loaded_x: train_feature_batch, loaded_y: train_label_batch, loaded_keep_prob: 1.0})\n",
    "            test_batch_count += 1\n",
    "\n",
    "        print('Testing Accuracy: {}\\n'.format(test_batch_acc_total/test_batch_count))\n",
    "\n",
    "        # Print Random Samples\n",
    "        random_test_features, random_test_labels = tuple(zip(*random.sample(list(zip(test_features, test_labels)), n_samples)))\n",
    "        random_test_predictions = sess.run(\n",
    "            tf.nn.top_k(tf.nn.softmax(loaded_logits), top_n_predictions),\n",
    "            feed_dict={loaded_x: random_test_features, loaded_y: random_test_labels, loaded_keep_prob: 1.0})\n",
    "        helper.display_image_predictions(random_test_features, random_test_labels, random_test_predictions)\n",
    "\n",
    "\n",
    "test_model()"
   ]
  },
  {
   "cell_type": "markdown",
   "metadata": {},
   "source": [
    "## Why 50-80% Accuracy?\n",
    "You might be wondering why you can't get an accuracy any higher. First things first, 50% isn't bad for a simple CNN.  Pure guessing would get you 10% accuracy. That's because there are many more techniques that can be applied to your model and we recemmond that once you are done with this project, you explore!\n",
    "\n",
    "## Submitting This Project\n",
    "When submitting this project, make sure to run all the cells before saving the notebook.  Save the notebook file as \"image_classification.ipynb\" and save it as a HTML file under \"File\" -> \"Download as\".  Include the \"helper.py\" and \"problem_unittests.py\" files in your submission."
   ]
  }
 ],
 "metadata": {
  "kernelspec": {
   "display_name": "Python 3",
   "language": "python",
   "name": "python3"
  },
  "language_info": {
   "codemirror_mode": {
    "name": "ipython",
    "version": 3
   },
   "file_extension": ".py",
   "mimetype": "text/x-python",
   "name": "python",
   "nbconvert_exporter": "python",
   "pygments_lexer": "ipython3",
   "version": "3.6.0"
  }
 },
 "nbformat": 4,
 "nbformat_minor": 0
}
